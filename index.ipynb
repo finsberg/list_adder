{
 "cells": [
  {
   "cell_type": "markdown",
   "metadata": {
    "slideshow": {
     "slide_type": "slide"
    }
   },
   "source": [
    "# Useful tools when working with code development"
   ]
  },
  {
   "cell_type": "markdown",
   "metadata": {
    "slideshow": {
     "slide_type": "notes"
    }
   },
   "source": [
    "In this journal club I want to give a practical introduction to different tools that can be very useful when working with code"
   ]
  },
  {
   "cell_type": "markdown",
   "metadata": {
    "slideshow": {
     "slide_type": "slide"
    }
   },
   "source": [
    "## Overview\n",
    "\n",
    "- Version Control System (VCS)\n",
    "\n",
    "  - Git\n",
    "\n",
    "- Virtual environments\n",
    "\n",
    "  - Develop your code in isolation\n",
    "\n",
    "- Continuos Integration (CI)\n",
    "\n",
    "  - Run your tests every time you push\n",
    "  - `pytest`\n",
    "\n",
    "- Pre-commit hooks\n",
    "  - Run some test every time you commit"
   ]
  },
  {
   "cell_type": "markdown",
   "metadata": {
    "slideshow": {
     "slide_type": "slide"
    }
   },
   "source": [
    "* Will be a bit python specific\n",
    "* Concepts can easily be transferred to other programming languages"
   ]
  },
  {
   "cell_type": "markdown",
   "metadata": {
    "slideshow": {
     "slide_type": "slide"
    }
   },
   "source": [
    "## Version Control System\n",
    "\n",
    "What’s a version control system (VCS)?"
   ]
  },
  {
   "cell_type": "markdown",
   "metadata": {
    "slideshow": {
     "slide_type": "slide"
    }
   },
   "source": [
    "## Version Control System\n",
    "\n",
    "What’s a version control system (VCS)?\n",
    "\n",
    "* tracks the history of changes\n",
    "\n",
    "Developers can review project history to find out:\n",
    "\n",
    "* Which changes were made?\n",
    "* Who made the changes?\n",
    "* When were the changes made?\n",
    "* Why were changes needed?\n",
    "\n",
    "The most used VCS is git, but there are also other ones like mercurial and svn."
   ]
  },
  {
   "cell_type": "markdown",
   "metadata": {
    "slideshow": {
     "slide_type": "slide"
    }
   },
   "source": [
    "### Working locally and remotly\n",
    "\n",
    "* You can use git locally on you computer but it is a good idea to push your changes to a remote repository at e.g GitHub or Bitcuket. \n",
    "* This will also make sure that you have a backup of your code, and development"
   ]
  },
  {
   "cell_type": "markdown",
   "metadata": {
    "slideshow": {
     "slide_type": "slide"
    }
   },
   "source": [
    "### Fixing bugs\n",
    "\n",
    "* If you introduce a bug in the code it is allways possible to revert those changes when working with git.\n",
    "\n",
    "* If you want to add a new feature to the code it is therefore a good idea to create a branch where you develop you new feature. When the feature is ready and tested you can merge your new feature into the main branch (which is usualla called `master`)\n",
    "\n",
    "* Try to allways have a working `master` branch"
   ]
  },
  {
   "cell_type": "markdown",
   "metadata": {},
   "source": [
    "### Use a .gitignore file to exclude files that you don't want to add to you repository\n",
    "\n",
    "https://www.gitignore.io"
   ]
  },
  {
   "cell_type": "markdown",
   "metadata": {
    "slideshow": {
     "slide_type": "slide"
    }
   },
   "source": [
    "### More info about Git\n",
    "\n",
    "* GitHub guides: https://guides.github.com\n",
    "* GitPro book: https://git-scm.com/book/en/v2\n",
    "\n"
   ]
  },
  {
   "cell_type": "markdown",
   "metadata": {
    "slideshow": {
     "slide_type": "slide"
    }
   },
   "source": [
    "## Virtual environments\n",
    "\n",
    "What are virtual environments?"
   ]
  },
  {
   "cell_type": "markdown",
   "metadata": {
    "slideshow": {
     "slide_type": "slide"
    }
   },
   "source": [
    "## Virtual environments\n",
    "\n",
    "What are virtual environments?\n",
    "\n",
    "A way to develop and run your code in isolation"
   ]
  },
  {
   "cell_type": "markdown",
   "metadata": {
    "slideshow": {
     "slide_type": "slide"
    }
   },
   "source": [
    "### Problems solved by virtual environments\n",
    "\n",
    "* Working with different versions of the same library:\n",
    "\n",
    "With virtual environments you can make sure that you can have the specific versions of the dependencies you need.\n",
    "For example if you need a specific version of `numpy` while another code base that you work on needs another requires a different version then that could potentially be a problem."
   ]
  },
  {
   "cell_type": "markdown",
   "metadata": {
    "slideshow": {
     "slide_type": "slide"
    }
   },
   "source": [
    "### Problems solved by virtual environments\n",
    "\n",
    "* Installing software without root priviliges\n",
    "\n",
    "Virtual environment allows you to install software in a directory which does not require root priviliges, which is essential if you want to install softwares on e.g saga.\n"
   ]
  },
  {
   "cell_type": "markdown",
   "metadata": {
    "slideshow": {
     "slide_type": "slide"
    }
   },
   "source": [
    "### Problems solved by virtual environments\n",
    "\n",
    "* Reproducibility\n",
    "\n",
    "You can make sure to allways use the same environment, i.e the same packages with the same versions. This is good if you want other people to be able to reproduce your results. \n",
    "\n"
   ]
  },
  {
   "cell_type": "markdown",
   "metadata": {
    "slideshow": {
     "slide_type": "slide"
    }
   },
   "source": [
    "### Different ways of creating a virtual environment"
   ]
  },
  {
   "cell_type": "markdown",
   "metadata": {
    "slideshow": {
     "slide_type": "slide"
    }
   },
   "source": [
    "#### virtualenv\n",
    "\n",
    "**Pros**\n",
    "\n",
    "- Installations are relatively fast\n",
    "- You get the folder with your vritual enviroment in whatever folder you like\n",
    "\n",
    "**Cons**\n",
    "\n",
    "- python specific"
   ]
  },
  {
   "cell_type": "markdown",
   "metadata": {
    "slideshow": {
     "slide_type": "slide"
    }
   },
   "source": [
    "Install package for handling virtual enviroments\n",
    "\n",
    "```\n",
    "python -m pip install virtualenv\n",
    "```\n",
    "\n",
    "Create virtual enviroment\n",
    "```\n",
    "python -m virtualenv venv\n",
    "```\n",
    "This will create a new directory `venv`. \n",
    "Activate virtual enviroment (Linux / Max OSX)\n",
    "```\n",
    "source venv/bin/activate\n",
    "```\n",
    "Now if you install any python packages, then they will only be stored in the folder `venv`.\n",
    "Deactivate environment\n",
    "```\n",
    "deactivate\n",
    "```"
   ]
  },
  {
   "cell_type": "markdown",
   "metadata": {
    "slideshow": {
     "slide_type": "slide"
    }
   },
   "source": [
    "#### conda environments\n",
    "\n",
    "**Pros**\n",
    "\n",
    "- Works with packages that you can install using conda\n",
    "- conda makes sure that packages are compatible (Preferable if you have packages that needs to be compiled)\n",
    "\n",
    "**Cons**\n",
    "\n",
    "- Installations are slower than `virtualenv``\n",
    "- You need `conda`\n",
    "- Your virtual enviroment is stored globally"
   ]
  },
  {
   "cell_type": "markdown",
   "metadata": {
    "slideshow": {
     "slide_type": "slide"
    }
   },
   "source": [
    "Create a new environment called `my_environment`\n",
    "```\n",
    "conda create -n my_environment\n",
    "```\n",
    "Activate environment\n",
    "```\n",
    "conda activate my_environment\n",
    "```\n",
    "Deactivate environment\n",
    "```\n",
    "conda deactivate\n",
    "```"
   ]
  },
  {
   "cell_type": "markdown",
   "metadata": {
    "slideshow": {
     "slide_type": "slide"
    }
   },
   "source": [
    "#### Docker\n",
    "\n",
    "**Pros**\n",
    "\n",
    "- Works with any packages that can be installed on Linux\n",
    "\n",
    "**Cons**\n",
    "\n",
    "- Takes up a lot of space\n",
    "- Is a bit more complicated to use\n",
    "\n",
    "Check out [https://github.com/ComputationalPhysiology/docker_workflows](https://github.com/ComputationalPhysiology/docker_workflows) for examples."
   ]
  },
  {
   "cell_type": "markdown",
   "metadata": {
    "slideshow": {
     "slide_type": "slide"
    }
   },
   "source": [
    "## Continuous Integration\n",
    "\n",
    "Idea: Your tests are run everytime you push your code to the remote repository.\n",
    "\n",
    "On GitHub there are three major vendors\n",
    "\n",
    "- [CircleCI](https://circleci.com)\n",
    "- [Travis](https://travis-ci.com)\n",
    "- [Azure Pipelines (Microsoft)](https://azure.microsoft.com/en-us/services/devops/pipelines/)\n",
    "\n",
    "For people using BitBucket you also have [Bitbucket pipelines](https://bitbucket.org/product/features/pipelines)"
   ]
  },
  {
   "cell_type": "markdown",
   "metadata": {
    "slideshow": {
     "slide_type": "slide"
    }
   },
   "source": [
    "### Test your code\n",
    "\n",
    "You should allways have some way to veryfy that your code is working as expected\n",
    "    "
   ]
  },
  {
   "cell_type": "markdown",
   "metadata": {
    "slideshow": {
     "slide_type": "slide"
    }
   },
   "source": [
    "### Test your code\n",
    "\n",
    "You should allways have some way to veryfy that your code is working as expected\n",
    "\n",
    "- Manual tests\n",
    "    - You can run your code manually and see that plots look right\n",
    "    \n",
    "- Automated tests\n",
    "    - You write functions that tests that your code behaves as expected\n",
    "    - Preferred but not allways possible to cover all cases\n",
    "    "
   ]
  },
  {
   "cell_type": "markdown",
   "metadata": {
    "slideshow": {
     "slide_type": "slide"
    }
   },
   "source": [
    "### Example - testing `list_adder`"
   ]
  },
  {
   "cell_type": "markdown",
   "metadata": {
    "slideshow": {
     "slide_type": "slide"
    }
   },
   "source": [
    "\n",
    "### Example CircleCI\n",
    "\n",
    "1. Create an account at https://circleci.com. Sign up with GitHub or Bitbucket.\n",
    "2. In your repository create a folder called `.circleci` and add a file in that folder called `config.yml`\n",
    "3. Edit the content of this configuration file - see example in this repository\n",
    "4. Go to `circleci.com`, find your project and click `Set up project`"
   ]
  },
  {
   "cell_type": "markdown",
   "metadata": {
    "slideshow": {
     "slide_type": "slide"
    }
   },
   "source": [
    "### Example Travis\n",
    "\n",
    "https://github.com/finsberg/vector3D"
   ]
  },
  {
   "cell_type": "markdown",
   "metadata": {
    "slideshow": {
     "slide_type": "slide"
    }
   },
   "source": [
    "### Test your code\n",
    "\n",
    "You should allways have some way to veryfy that your code is working as expected\n",
    "\n",
    "- Manual tests\n",
    "    - You can run your code manually and see that plots look right\n",
    "    \n",
    "- Automated tests\n",
    "    - You write functions that tests that your code behaves as expected\n",
    "    - Preferred but not allways possible to cover all cases\n",
    "    "
   ]
  },
  {
   "cell_type": "markdown",
   "metadata": {
    "slideshow": {
     "slide_type": "slide"
    }
   },
   "source": [
    "\n",
    "## Pre-commit hooks\n",
    "\n",
    "Sometimes it is a good idea to test your code whenever you perform a commit"
   ]
  },
  {
   "cell_type": "markdown",
   "metadata": {
    "slideshow": {
     "slide_type": "slide"
    }
   },
   "source": [
    "\n",
    "## Pre-commit hooks\n",
    "\n",
    "Things you might want to test whenever you commit\n",
    "\n",
    "* You are following the correct coding style\n",
    "    - If you are working with other people then it is good practice to agree on the coding style\n",
    "    - python: PEP8\n"
   ]
  },
  {
   "cell_type": "markdown",
   "metadata": {
    "slideshow": {
     "slide_type": "slide"
    }
   },
   "source": [
    "\n",
    "## Pre-commit hooks\n",
    "\n",
    "Things you might want to test whenever you commit\n",
    "\n",
    "* You are following the correct coding style\n",
    "    - If you are working with other people then it is good practice to agree on the coding style\n",
    "    - python: PEP8\n",
    "\n",
    "* New changes does not break any core functionality\n",
    "    - Run a minimal number tests"
   ]
  },
  {
   "cell_type": "markdown",
   "metadata": {
    "slideshow": {
     "slide_type": "slide"
    }
   },
   "source": [
    "\n",
    "## Pre-commit hooks\n",
    "\n",
    "Things you might want to test whenever you commit\n",
    "\n",
    "* You are following the correct coding style\n",
    "    - If you are working with other people then it is good practice to agree on the coding style\n",
    "    - python: PEP8\n",
    "\n",
    "* New changes does not break any core functionality\n",
    "    - Run a minimal number tests\n",
    "\n",
    "* Type checking\n",
    "    - python: `mypy`"
   ]
  },
  {
   "cell_type": "markdown",
   "metadata": {
    "slideshow": {
     "slide_type": "slide"
    }
   },
   "source": [
    "### Checking for correct code style using `flake8`\n",
    "\n",
    "```python\n",
    "def add(x,y):\n",
    "    return x+y\n",
    "```\n",
    "\n",
    "you should (according to PEP8), do\n",
    "\n",
    "```python\n",
    "def add(x, y):\n",
    "    return x + y\n",
    "```\n",
    "\n",
    "Having the same coding style makes your code more readable and it prevents you for having unwanted\n",
    "\n",
    "```\n",
    "python3 -m pip install flake8\n",
    "```\n",
    "\n"
   ]
  },
  {
   "cell_type": "markdown",
   "metadata": {
    "slideshow": {
     "slide_type": "notes"
    }
   },
   "source": [
    "It is good practice to follow some pre-defined coding style. For python there is a standard coding style know as [PEP8](https://www.python.org/dev/peps/pep-0008/).\n",
    "This style guide contains a very large list of how you should format your code, and how you should not format your code.\n",
    "For example your should always have a space between arguments to a function and also space on each side of an operator. So instead of doing\n",
    "\n"
   ]
  },
  {
   "cell_type": "markdown",
   "metadata": {
    "slideshow": {
     "slide_type": "slide"
    }
   },
   "source": [
    "### Add flake8 as a pre-commit hook\n",
    "\n",
    "Will run `flake8` every time you commit\n",
    "\n",
    "1. Install `pre-commit` package\n",
    "\n",
    "```\n",
    "python -m pip install pre-commit\n",
    "```\n",
    "\n",
    "2. Create a file called `.pre-commit-config.yaml` and add the following content to it\n",
    "```\n",
    "repos:\n",
    "  - repo: local\n",
    "    hooks:\n",
    "      - id: flake8\n",
    "        name: flake8\n",
    "        stages: [commit]\n",
    "        language: system\n",
    "        entry: python -m flake8\n",
    "        types: [python]\n",
    "        exclude: setup.py\n",
    "```"
   ]
  },
  {
   "cell_type": "markdown",
   "metadata": {
    "slideshow": {
     "slide_type": "slide"
    }
   },
   "source": [
    "3. Install the pre-commit hook\n",
    "\n",
    "```\n",
    "pre-commit install \n",
    "```\n",
    "\n",
    "4. Try to do some changes that violates PEP8, and commit them\n",
    "\n",
    "Note: you can remove the pre-commit hook by executing\n",
    "\n",
    "```\n",
    "pre-commit uninstall\n",
    "```"
   ]
  },
  {
   "cell_type": "markdown",
   "metadata": {
    "slideshow": {
     "slide_type": "slide"
    }
   },
   "source": [
    "## Other useful pre-commit hooks"
   ]
  },
  {
   "cell_type": "markdown",
   "metadata": {
    "slideshow": {
     "slide_type": "slide"
    }
   },
   "source": [
    "### Coding style using `black` formatter\n",
    "\n",
    "```\n",
    "python3 -m pip install black\n",
    "```\n",
    "\n",
    "Autoformat code \n",
    "```\n",
    "python -m black script.py\n",
    "```\n",
    "\n",
    "or just check consistent coding style\n",
    "\n",
    "```\n",
    "python -m black --check script.py\n",
    "```"
   ]
  },
  {
   "cell_type": "markdown",
   "metadata": {
    "slideshow": {
     "slide_type": "slide"
    }
   },
   "source": [
    "### Checking for consistent import order using `isort`\n",
    "\n",
    "```\n",
    "python3 -m pip install isort\n",
    "```\n",
    "\n",
    "\n",
    "Autoformat code \n",
    "```\n",
    "python -m black script.py\n",
    "```\n",
    "\n",
    "or just check consisten import order\n",
    "\n",
    "```\n",
    "python -m black --check script.py\n",
    "```"
   ]
  },
  {
   "cell_type": "markdown",
   "metadata": {
    "slideshow": {
     "slide_type": "slide"
    }
   },
   "source": [
    "### Static type checker using `mypy`\n",
    "\n",
    "You can add types to variables and run `mypy` to verify that you are always passing correct arguments to functions\n",
    "\n",
    "```python\n",
    "from typing import Optional\n",
    "\n",
    "def add(x: float, y: Optional[float] = 1) -> float:\n",
    "    \"\"\"Add two numbers\n",
    "\n",
    "    Arguments\n",
    "    ---------\n",
    "    x : float\n",
    "        First number\n",
    "    y : float\n",
    "        Second number. If not provided it will default to 1\n",
    "\n",
    "    Returns\n",
    "    -------\n",
    "    float\n",
    "        The sum of x and y\n",
    "    \"\"\"\n",
    "    return float(x + y)\n",
    "```"
   ]
  },
  {
   "cell_type": "markdown",
   "metadata": {
    "slideshow": {
     "slide_type": "slide"
    }
   },
   "source": [
    "### Static type checker using `mypy`\n",
    "\n",
    "```\n",
    "python3 -m pip install mypy\n",
    "```\n",
    "\n",
    "Check types by running \n",
    "\n",
    "```\n",
    "python3 -m mypy list_adder demo\n",
    "```\n"
   ]
  },
  {
   "cell_type": "markdown",
   "metadata": {
    "slideshow": {
     "slide_type": "slide"
    }
   },
   "source": [
    "## Customize pre-commit hooks using `setup.cfg`\n",
    "\n",
    "\n",
    "```\n",
    "[isort]\n",
    "multi_line_output=3\n",
    "include_trailing_comma=True\n",
    "force_grid_wrap=0\n",
    "use_parentheses=True\n",
    "line_length=88\n",
    "skip=venv\n",
    "\n",
    "[flake8]\n",
    "exclude = docs\n",
    "ignore = E203, E266, E501, W503, E731\n",
    "max-line-length = 88\n",
    "max-complexity = 18\n",
    "select = B,C,E,F,W,T4\n",
    "\n",
    "[mypy]\n",
    "files=list_adder, demo,tests\n",
    "ignore_missing_imports=true\n",
    "```"
   ]
  },
  {
   "cell_type": "markdown",
   "metadata": {
    "slideshow": {
     "slide_type": "slide"
    }
   },
   "source": [
    "For more tips and tricks you can also check out Jonas's presentation on an earlier journal club which is available on Slack"
   ]
  }
 ],
 "metadata": {
  "celltoolbar": "Slideshow",
  "kernelspec": {
   "display_name": "Python 3",
   "language": "python",
   "name": "python3"
  },
  "language_info": {
   "codemirror_mode": {
    "name": "ipython",
    "version": 3
   },
   "file_extension": ".py",
   "mimetype": "text/x-python",
   "name": "python",
   "nbconvert_exporter": "python",
   "pygments_lexer": "ipython3",
   "version": "3.7.3"
  }
 },
 "nbformat": 4,
 "nbformat_minor": 2
}
