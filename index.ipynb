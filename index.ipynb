{
 "cells": [
  {
   "cell_type": "markdown",
   "metadata": {
    "slideshow": {
     "slide_type": "slide"
    }
   },
   "source": [
    "# Useful tools when working with code development"
   ]
  },
  {
   "cell_type": "markdown",
   "metadata": {
    "slideshow": {
     "slide_type": "notes"
    }
   },
   "source": [
    "In this journal club I want to give a practical introduction to different tools that can be very useful when working with code"
   ]
  },
  {
   "cell_type": "markdown",
   "metadata": {
    "slideshow": {
     "slide_type": "slide"
    }
   },
   "source": [
    "## Overview\n",
    "\n",
    "- Version Control System (VCS)\n",
    "\n",
    "  - Git\n",
    "\n",
    "- Virtual environments\n",
    "\n",
    "  - Develop your code in isolation\n",
    "\n",
    "- Continuos Integration (CI)\n",
    "\n",
    "  - Run your tests every time you push\n",
    "  - `pytest`\n",
    "\n",
    "- Pre-commit hooks\n",
    "  - Run some test every time you commit"
   ]
  },
  {
   "cell_type": "markdown",
   "metadata": {
    "slideshow": {
     "slide_type": "slide"
    }
   },
   "source": [
    "* Will be a bit python specific\n",
    "* Concepts can easily be transferred to other programming languages"
   ]
  },
  {
   "cell_type": "markdown",
   "metadata": {
    "slideshow": {
     "slide_type": "slide"
    }
   },
   "source": [
    "## Version Control System\n",
    "\n",
    "What’s a version control system (VCS)?"
   ]
  },
  {
   "cell_type": "markdown",
   "metadata": {
    "slideshow": {
     "slide_type": "slide"
    }
   },
   "source": [
    "## Version Control System\n",
    "\n",
    "What’s a version control system (VCS)?\n",
    "\n",
    "* tracks the history of changes\n",
    "\n",
    "Developers can review project history to find out:\n",
    "\n",
    "* Which changes were made?\n",
    "* Who made the changes?\n",
    "* When were the changes made?\n",
    "* Why were changes needed?\n",
    "\n",
    "The most used VCS is git, but there are also other ones like mercurial and svn."
   ]
  },
  {
   "cell_type": "markdown",
   "metadata": {
    "slideshow": {
     "slide_type": "slide"
    }
   },
   "source": [
    "### Working locally and remotly\n",
    "\n",
    "* You can use git locally on you computer but it is a good idea to push your changes to a remote repository at e.g GitHub or Bitcuket. \n",
    "* This will also make sure that you have a backup of your code, and development"
   ]
  },
  {
   "cell_type": "markdown",
   "metadata": {
    "slideshow": {
     "slide_type": "slide"
    }
   },
   "source": [
    "### Fixing bugs\n",
    "\n",
    "* If you introduce a bug in the code it is allways possible to revert those changes when working with git.\n",
    "\n",
    "* If you want to add a new feature to the code it is therefore a good idea to create a branch where you develop you new feature. When the feature is ready and tested you can merge your new feature into the main branch (which is usualla called `master`)\n",
    "\n",
    "* Try to allways have a working `master` branch"
   ]
  },
  {
   "cell_type": "markdown",
   "metadata": {
    "slideshow": {
     "slide_type": "slide"
    }
   },
   "source": [
    "### More info about Git\n",
    "\n",
    "* GitHub guides: https://guides.github.com\n",
    "* GitPro book: https://git-scm.com/book/en/v2\n",
    "\n"
   ]
  },
  {
   "cell_type": "markdown",
   "metadata": {
    "slideshow": {
     "slide_type": "slide"
    }
   },
   "source": [
    "## Virtual environments\n",
    "\n",
    "What are virtual environments?"
   ]
  },
  {
   "cell_type": "markdown",
   "metadata": {
    "slideshow": {
     "slide_type": "slide"
    }
   },
   "source": [
    "## Virtual environments\n",
    "\n",
    "What are virtual environments?\n",
    "\n",
    "A way to develop and run your code in isolation"
   ]
  },
  {
   "cell_type": "markdown",
   "metadata": {
    "slideshow": {
     "slide_type": "slide"
    }
   },
   "source": [
    "### Problems solved by virtual environments\n",
    "\n",
    "* Working with different versions of the same library:\n",
    "\n",
    "With virtual environments you can make sure that you can have the specific versions of the dependencies you need.\n",
    "For example if you need a specific version of `numpy` while another code base that you work on needs another requires a different version then that could potentially be a problem."
   ]
  },
  {
   "cell_type": "markdown",
   "metadata": {
    "slideshow": {
     "slide_type": "slide"
    }
   },
   "source": [
    "### Problems solved by virtual environments\n",
    "\n",
    "* Installing software without root priviliges\n",
    "\n",
    "Virtual environment allows you to install software in a directory which does not require root priviliges, which is essential if you want to install softwares on e.g saga.\n"
   ]
  },
  {
   "cell_type": "markdown",
   "metadata": {
    "slideshow": {
     "slide_type": "slide"
    }
   },
   "source": [
    "### Problems solved by virtual environments\n",
    "\n",
    "* Reproducibility\n",
    "\n",
    "You can make sure to allways use the same environment, i.e the same packages with the same versions. This is good if you want other people to be able to reproduce your results. \n",
    "\n"
   ]
  },
  {
   "cell_type": "markdown",
   "metadata": {
    "slideshow": {
     "slide_type": "slide"
    }
   },
   "source": [
    "### Different ways of creating a virtual environment"
   ]
  },
  {
   "cell_type": "markdown",
   "metadata": {
    "slideshow": {
     "slide_type": "slide"
    }
   },
   "source": [
    "#### virtualenv\n",
    "\n",
    "**Pros**\n",
    "\n",
    "- Installations are relatively fast\n",
    "- You get the folder with your vritual enviroment in whatever folder you like\n",
    "\n",
    "**Cons**\n",
    "\n",
    "- python specific"
   ]
  },
  {
   "cell_type": "markdown",
   "metadata": {
    "slideshow": {
     "slide_type": "slide"
    }
   },
   "source": [
    "Install package for handling virtual enviroments\n",
    "\n",
    "```\n",
    "python -m pip install virtualenv\n",
    "```\n",
    "\n",
    "Create virtual enviroment\n",
    "```\n",
    "python -m virtualenv venv\n",
    "```\n",
    "This will create a new directory `venv`. \n",
    "Activate virtual enviroment (Linux / Max OSX)\n",
    "```\n",
    "source venv/bin/activate\n",
    "```\n",
    "Now if you install any python packages, then they will only be stored in the folder `venv`.\n",
    "Deactivate environment\n",
    "```\n",
    "deactivate\n",
    "```"
   ]
  },
  {
   "cell_type": "markdown",
   "metadata": {
    "slideshow": {
     "slide_type": "slide"
    }
   },
   "source": [
    "#### conda environments\n",
    "\n",
    "**Pros**\n",
    "\n",
    "- Works with packages that you can install using conda\n",
    "- conda makes sure that packages are compatible (Preferable if you have packages that needs to be compiled)\n",
    "\n",
    "**Cons**\n",
    "\n",
    "- Installations are slower than `virtualenv``\n",
    "- You need `conda`\n",
    "- Your virtual enviroment is stored globally"
   ]
  },
  {
   "cell_type": "markdown",
   "metadata": {
    "slideshow": {
     "slide_type": "slide"
    }
   },
   "source": [
    "Create a new environment called `my_environment`\n",
    "```\n",
    "conda create -n my_environment\n",
    "```\n",
    "Activate environment\n",
    "```\n",
    "conda activate my_environment\n",
    "```\n",
    "Deactivate environment\n",
    "```\n",
    "conda deactivate\n",
    "```"
   ]
  },
  {
   "cell_type": "markdown",
   "metadata": {
    "slideshow": {
     "slide_type": "slide"
    }
   },
   "source": [
    "#### Docker\n",
    "\n",
    "**Pros**\n",
    "\n",
    "- Works with any packages that can be installed on Linux\n",
    "\n",
    "**Cons**\n",
    "\n",
    "- Takes up a lot of space\n",
    "- Is a bit more complicated to use\n",
    "\n",
    "Check out [https://github.com/ComputationalPhysiology/docker_workflows](https://github.com/ComputationalPhysiology/docker_workflows) for examples."
   ]
  },
  {
   "cell_type": "markdown",
   "metadata": {
    "slideshow": {
     "slide_type": "slide"
    }
   },
   "source": [
    "## Continuous Integration\n",
    "\n",
    "Idea: Your tests are run everytime you push your code to the remote repository.\n",
    "\n",
    "On GitHub there are three major vendors\n",
    "\n",
    "- [CircleCI](https://circleci.com)\n",
    "- [Travis](https://travis-ci.com)\n",
    "- [Azure Pipelines (Microsoft)](https://azure.microsoft.com/en-us/services/devops/pipelines/)\n",
    "\n",
    "For people using BitBucket you also have [Bitbucket pipelines](https://bitbucket.org/product/features/pipelines)"
   ]
  },
  {
   "cell_type": "markdown",
   "metadata": {},
   "source": [
    "\n",
    "### Example CircleCI\n",
    "\n",
    "1. Create an account at https://circleci.com. Sign up with GitHub or Bitbucket.\n",
    "2. In your repository create a folder called `.circle_ci\n",
    "\n"
   ]
  },
  {
   "cell_type": "markdown",
   "metadata": {},
   "source": [
    "### Example Travis\n",
    "\n",
    "https://github.com/finsberg/vector3D"
   ]
  },
  {
   "cell_type": "markdown",
   "metadata": {},
   "source": [
    "\n",
    "## Pre-commit hooks\n",
    "\n",
    "Sometimes it is a good idea to test your code whenever you perform a commit"
   ]
  },
  {
   "cell_type": "markdown",
   "metadata": {},
   "source": [
    "### Checking for correct code style using `flake8`\n",
    "\n",
    "It is good practice to follow some pre-defined coding style. For python there is a standard coding style know as [PEP8](https://www.python.org/dev/peps/pep-0008/).\n",
    "This style guide contains a very large list of how you should format your code, and how you should not format your code.\n",
    "For example your should always have a space between arguments to a function and also space on each side of an operator. So instead of doing\n",
    "\n",
    "```python\n",
    "def add(x,y):\n",
    "    return x+y\n",
    "```\n",
    "\n",
    "you should (according to PEP8), do\n",
    "\n",
    "```python\n",
    "def add(x, y):\n",
    "    return x + y\n",
    "```\n",
    "\n",
    "Having the same coding style makes your code more readable and it prevents you for having unwanted\n",
    "\n",
    "```\n",
    "python3 -m pip install flake8\n",
    "```\n",
    "\n"
   ]
  },
  {
   "cell_type": "markdown",
   "metadata": {},
   "source": [
    "### Checking for consistent import order using `isort`\n",
    "\n",
    "```\n",
    "python3 -m pip install isort\n",
    "```"
   ]
  },
  {
   "cell_type": "markdown",
   "metadata": {},
   "source": [
    "### Static type checker using `mypy`\n",
    "\n",
    "```\n",
    "python3 -m pip install mypy\n",
    "```\n"
   ]
  },
  {
   "cell_type": "code",
   "execution_count": null,
   "metadata": {},
   "outputs": [],
   "source": []
  },
  {
   "cell_type": "code",
   "execution_count": null,
   "metadata": {},
   "outputs": [],
   "source": []
  },
  {
   "cell_type": "code",
   "execution_count": null,
   "metadata": {},
   "outputs": [],
   "source": []
  }
 ],
 "metadata": {
  "celltoolbar": "Slideshow",
  "kernelspec": {
   "display_name": "Python 3",
   "language": "python",
   "name": "python3"
  },
  "language_info": {
   "codemirror_mode": {
    "name": "ipython",
    "version": 3
   },
   "file_extension": ".py",
   "mimetype": "text/x-python",
   "name": "python",
   "nbconvert_exporter": "python",
   "pygments_lexer": "ipython3",
   "version": "3.7.3"
  }
 },
 "nbformat": 4,
 "nbformat_minor": 2
}
